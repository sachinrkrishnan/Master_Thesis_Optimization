{
 "cells": [
  {
   "cell_type": "markdown",
   "metadata": {},
   "source": [
    "## DECENTRALIZED INVENTORY MODEL FOR AMAZON FULFILLMENT CENTERS"
   ]
  },
  {
   "cell_type": "code",
   "execution_count": null,
   "metadata": {
    "id": "3lOy0Cbj6BiA"
   },
   "outputs": [],
   "source": [
    "import gurobipy as gp\n",
    "import numpy as np\n",
    "import pandas as pd"
   ]
  },
  {
   "cell_type": "code",
   "execution_count": null,
   "metadata": {},
   "outputs": [],
   "source": [
    "dec_stock = pd.read_excel('Dec_2022_Stock Level.xlsx')\n",
    "dec_forecast = pd.read_excel('Dec_2022_Forecast & Consumption.xlsx')\n",
    "dec_safetystock = pd.read_excel('Dec_2022_SafetyStock Level.xlsx')\n",
    "supplier_capacity = pd.read_excel('Dec_2022_Supplier Capacity.xlsx')\n",
    "fc_loc = pd.read_excel('FC_Loc.xlsx')\n",
    "supplier_loc = pd.read_excel('Supplier_Loc.xlsx')"
   ]
  },
  {
   "cell_type": "code",
   "execution_count": null,
   "metadata": {
    "scrolled": true
   },
   "outputs": [],
   "source": [
    "!pip install folium"
   ]
  },
  {
   "cell_type": "code",
   "execution_count": null,
   "metadata": {},
   "outputs": [],
   "source": [
    "!pip install geopy"
   ]
  },
  {
   "cell_type": "code",
   "execution_count": null,
   "metadata": {
    "colab": {
     "base_uri": "https://localhost:8080/",
     "height": 833
    },
    "id": "g816Vc4baiVQ",
    "outputId": "c2c43e0f-345f-447f-9af4-9a0bafb11304",
    "scrolled": false
   },
   "outputs": [],
   "source": [
    "#Location Map: Blue:FC, Green: Supplier\n",
    "\n",
    "import folium\n",
    "import pandas as pd\n",
    "\n",
    "# Create a map centered on a specific location\n",
    "map_center = [34.1, -117.9]  # Specify the center coordinates\n",
    "map_zoom = 9  # Specify the initial zoom level\n",
    "\n",
    "# Create a map object\n",
    "map_object = folium.Map(location=map_center, zoom_start=map_zoom, min_zoom=4, max_zoom=10)\n",
    "\n",
    "\n",
    "# Define the coordinates you want to plot from fc_loc DataFrame\n",
    "fc_coordinates = fc_loc[['latitude', 'longitude', 'FC']].values\n",
    "\n",
    "# Define the coordinates you want to plot from supplier_loc DataFrame\n",
    "supplier_coordinates = supplier_loc[['latitude', 'longitude', 'UniqueID']].values\n",
    "\n",
    "# Plot the fc_loc coordinates on the map as blue circles with FC name\n",
    "for coordinate in fc_coordinates:\n",
    "    circle_marker = folium.CircleMarker(\n",
    "        location=[coordinate[0], coordinate[1]],\n",
    "        radius=4,\n",
    "        color='blue',\n",
    "        fill=True,\n",
    "        fill_color='blue',\n",
    "        fill_opacity=0.8,\n",
    "        popup=coordinate[2]  # Use the FC name column as the popup value\n",
    "    )\n",
    "    circle_marker.add_to(map_object)\n",
    "\n",
    "# Plot the supplier_loc coordinates on the map as green circles with supplier name inside\n",
    "for coordinate in supplier_coordinates:\n",
    "    html = f'<div style=\"text-align: center;\"><span style=\"font-weight: bold; color: green;\">{coordinate[2]}</span></div>'\n",
    "    circle_marker = folium.CircleMarker(\n",
    "        location=[coordinate[0], coordinate[1]],\n",
    "        radius=4,\n",
    "        color='green',\n",
    "        fill=True,\n",
    "        fill_color='green',\n",
    "        fill_opacity=0.8,\n",
    "        popup=folium.Popup(html, max_width=200)  # Use supplier name as HTML content in the popup\n",
    "    )\n",
    "    circle_marker.add_to(map_object)\n",
    "\n",
    "# Display the map\n",
    "map_object.save(\"map.html\")  # Save the map as an HTML file\n",
    "map_object  # Display the map in Jupyter Notebook\n"
   ]
  },
  {
   "cell_type": "code",
   "execution_count": null,
   "metadata": {
    "id": "s2RClsnbEvBV"
   },
   "outputs": [],
   "source": [
    "import pandas as pd\n",
    "from geopy.distance import distance"
   ]
  },
  {
   "cell_type": "code",
   "execution_count": null,
   "metadata": {
    "id": "0CV_rrH14cpH"
   },
   "outputs": [],
   "source": [
    "num_fcs = len(fc_loc)\n",
    "num_suppliers = len(supplier_loc)\n",
    "num_products = len(dec_forecast['Item'].unique())\n",
    "num_periods = len(dec_forecast['Date'].unique())"
   ]
  },
  {
   "cell_type": "code",
   "execution_count": null,
   "metadata": {
    "colab": {
     "base_uri": "https://localhost:8080/"
    },
    "id": "MV_vqiE3thon",
    "outputId": "cd238f6b-e301-46cd-960b-c8446e7f10fa"
   },
   "outputs": [],
   "source": [
    "from geopy.distance import distance\n",
    "\n",
    "# Distance Matrix from Supplier to FC\n",
    "transport_distance_matrix = np.zeros((num_suppliers, num_fcs, num_periods , num_products))\n",
    "\n",
    "# Calculate the distances between each FC and supplier\n",
    "for date_idx, date in enumerate(dec_forecast['Date'].unique()):\n",
    "    for product_idx in range(num_products):\n",
    "        for fc_idx, fc_row in fc_loc.iterrows():\n",
    "            fc_coords = (fc_row['latitude'], fc_row['longitude'])\n",
    "            for supplier_idx, supplier_row in supplier_loc.iterrows():\n",
    "                supplier_coords = (supplier_row['latitude'], supplier_row['longitude'])\n",
    "                transport_distance_matrix[supplier_idx, fc_idx, date_idx, product_idx] = distance(supplier_coords, fc_coords).km\n",
    "\n",
    "# Print the new shape of the repeated distance matrix\n",
    "print(transport_distance_matrix)\n"
   ]
  },
  {
   "cell_type": "code",
   "execution_count": null,
   "metadata": {
    "colab": {
     "base_uri": "https://localhost:8080/"
    },
    "id": "oETFm2U5EjIA",
    "outputId": "559f27da-0586-4e3d-81f0-7187f8a2b386"
   },
   "outputs": [],
   "source": [
    "# Distance Matrix from FC to FC\n",
    "\n",
    "# Create an empty matrix to hold the distances\n",
    "\n",
    "tranship_distance_matrix = np.zeros((num_fcs, num_fcs, num_periods, num_products))\n",
    "\n",
    "# Calculate the distances between each FC and FC\n",
    "for date_idx, date in enumerate(dec_forecast['Date'].unique()):\n",
    "  for product_idx in range(num_products):\n",
    "    for fc_idx, fc_row in fc_loc.iterrows():\n",
    "        fc_coords = (fc_row['latitude'], fc_row['longitude'])\n",
    "        for fc_idx2, fc_row2 in fc_loc.iterrows():\n",
    "            fc_coords2 = (fc_row2['latitude'], fc_row2['longitude'])\n",
    "            tranship_distance_matrix[fc_idx, fc_idx2, date_idx, product_idx] = distance(fc_coords, fc_coords2).km\n",
    "\n",
    "# Print the distance matrix\n",
    "print(tranship_distance_matrix)\n"
   ]
  },
  {
   "cell_type": "code",
   "execution_count": null,
   "metadata": {
    "colab": {
     "base_uri": "https://localhost:8080/"
    },
    "id": "o_U77BsjJptF",
    "outputId": "18fe2aea-82ec-44ce-c552-f4ebc9b5ed00"
   },
   "outputs": [],
   "source": [
    "# Stock level in FCs\n",
    "\n",
    "# Extract the unique dates from the \"Date\" column\n",
    "dec_dates = dec_stock['Date'].unique()\n",
    "\n",
    "# Create an empty dictionary to hold the stock levels for each FC, product, and date\n",
    "stock_levels = {}\n",
    "\n",
    "# Iterate over the unique dates\n",
    "for date in dec_dates:\n",
    "    # Filter the DataFrame for the current date\n",
    "    filtered_data = dec_stock[dec_stock['Date'] == date]\n",
    "    \n",
    "    # Create a dictionary to hold the stock levels for each FC, product on the current date\n",
    "    stock_levels[date] = {}\n",
    "    \n",
    "    # Iterate over each row in the filtered DataFrame\n",
    "    for _, row in filtered_data.iterrows():\n",
    "        # Get the FC, product, and stock level\n",
    "        fc = row['FC']\n",
    "        product = row['Item']\n",
    "        stock = row['Stock']\n",
    "        \n",
    "        # Create a nested dictionary for the FC if it doesn't exist\n",
    "        if fc not in stock_levels[date]:\n",
    "            stock_levels[date][fc] = {}\n",
    "        \n",
    "        # Store the stock level for the current FC, product, and date in the dictionary\n",
    "        stock_levels[date][fc][product] = stock\n",
    "\n",
    "# Create a NumPy array to hold the stock levels for all FCs, products, and dates\n",
    "stock_level_np = np.zeros((len(dec_dates), num_fcs, num_products))\n",
    "\n",
    "# Iterate over the stock levels dictionary and populate the NumPy array\n",
    "for date_idx, date in enumerate(dec_dates):\n",
    "    for fc_idx, fc_row in fc_loc.iterrows():\n",
    "        fc = fc_row['FC']\n",
    "        for product_idx, product in enumerate(dec_forecast['Item'].unique()):\n",
    "            stock_level_np[date_idx, fc_idx, product_idx] = stock_levels[date].get(fc, {}).get(product, 0)\n",
    "\n",
    "print(stock_level_np[0])\n"
   ]
  },
  {
   "cell_type": "code",
   "execution_count": null,
   "metadata": {
    "colab": {
     "base_uri": "https://localhost:8080/"
    },
    "id": "1upV_v85N3xY",
    "outputId": "359b4a03-cb29-4d33-aaa2-fcecdc0def7a"
   },
   "outputs": [],
   "source": [
    "# Safety stock level required in FCs for each period\n",
    "\n",
    "# Extract the unique dates from the \"Date\" column\n",
    "dec_dates = dec_safetystock['Date'].unique()\n",
    "\n",
    "# Create an empty list to store the nested lists\n",
    "safetystock_level = []\n",
    "\n",
    "# Iterate over the unique dates\n",
    "for date in dec_dates:\n",
    "    # Filter the DataFrame for rows matching the current date\n",
    "    filtered_data = dec_safetystock[dec_safetystock['Date'] == date]\n",
    "\n",
    "    # Create a dictionary to hold the safety stock levels for each FC, product on the current date\n",
    "    safetystock_levels_date = {}\n",
    "\n",
    "    # Iterate over each row in the filtered DataFrame\n",
    "    for _, row in filtered_data.iterrows():\n",
    "        # Get the FC, product, and safety stock level\n",
    "        fc = row['FC']\n",
    "        product = row['Item']\n",
    "        safetystock = row['SafetyStock']\n",
    "\n",
    "        # Create a nested dictionary for the FC if it doesn't exist\n",
    "        if fc not in safetystock_levels_date:\n",
    "            safetystock_levels_date[fc] = {}\n",
    "\n",
    "        # Store the safety stock level for the current FC, product, and date in the dictionary\n",
    "        safetystock_levels_date[fc][product] = safetystock\n",
    "\n",
    "    # Append the dictionary of safety stock levels to the main list\n",
    "    safetystock_level.append(safetystock_levels_date)\n",
    "\n",
    "# Create a NumPy array to hold the safety stock levels for all FCs, products, and dates\n",
    "safetystock_level_np = np.zeros((len(dec_dates), num_fcs, num_products))\n",
    "\n",
    "# Iterate over the list of safety stock levels and populate the NumPy array\n",
    "for date_idx, safetystock_levels_date in enumerate(safetystock_level):\n",
    "    for fc_idx, fc_row in fc_loc.iterrows():\n",
    "        fc = fc_row['FC']\n",
    "        for product_idx, product in enumerate(dec_forecast['Item'].unique()):\n",
    "            safetystock_level_np[date_idx, fc_idx, product_idx] = safetystock_levels_date.get(fc, {}).get(product, 0)\n",
    "\n",
    "print(safetystock_level_np)\n"
   ]
  },
  {
   "cell_type": "code",
   "execution_count": null,
   "metadata": {
    "colab": {
     "base_uri": "https://localhost:8080/"
    },
    "id": "vFIkhEmT-mIU",
    "outputId": "aac5f9d1-041c-4416-a391-5f0cba2991eb"
   },
   "outputs": [],
   "source": [
    "# Forecast levels in FCs\n",
    "\n",
    "# Extract the unique dates from the \"Date\" column\n",
    "dec_dates = dec_forecast['Date'].unique()\n",
    "\n",
    "# Create an empty dictionary to hold the forecast details for each product, FC, and date\n",
    "forecast_level = {}\n",
    "\n",
    "# Iterate over the unique dates\n",
    "for date in dec_dates:\n",
    "    # Filter the DataFrame for the current date\n",
    "    filtered_data = dec_forecast[dec_forecast['Date'] == date]\n",
    "\n",
    "    # Create a dictionary to hold the forecast details for each FC, product on the current date\n",
    "    forecast_level[date] = {}\n",
    "\n",
    "    # Iterate over each row in the filtered DataFrame\n",
    "    for _, row in filtered_data.iterrows():\n",
    "        # Get the FC, product, and forecast details\n",
    "        fc = row['FC']\n",
    "        product = row['Item']\n",
    "        forecast = row['Forecast']\n",
    "\n",
    "        # Create a nested dictionary for the FC if it doesn't exist\n",
    "        if fc not in forecast_level[date]:\n",
    "            forecast_level[date][fc] = {}\n",
    "\n",
    "        # Store the forecast details for the current FC, product, and date in the dictionary\n",
    "        forecast_level[date][fc][product] = forecast\n",
    "\n",
    "# Create a NumPy array to hold the forecast details for all FCs, products, and dates\n",
    "forecast_level_np = np.zeros((len(dec_dates), num_fcs, num_products))\n",
    "\n",
    "# Iterate over the forecast details dictionary and populate the NumPy array\n",
    "for date_idx, date in enumerate(dec_dates):\n",
    "    for fc_idx, fc_row in fc_loc.iterrows():\n",
    "        fc = fc_row['FC']\n",
    "        for product_idx, product in enumerate(dec_forecast['Item'].unique()):\n",
    "            forecast_level_np[date_idx, fc_idx, product_idx] = forecast_level[date].get(fc, {}).get(product, 0)\n",
    "\n",
    "print(forecast_level_np)\n"
   ]
  },
  {
   "cell_type": "code",
   "execution_count": null,
   "metadata": {
    "colab": {
     "base_uri": "https://localhost:8080/"
    },
    "id": "CReqmMViffMH",
    "outputId": "6aa59735-3412-40c0-df3a-018e7e79991b"
   },
   "outputs": [],
   "source": [
    "# Maximum capacity of suppliers for each period\n",
    "\n",
    "# Extract the unique dates from the \"Date\" column\n",
    "dec_dates = supplier_capacity['Date'].unique()\n",
    "\n",
    "# Create an empty list to store the nested dictionaries\n",
    "max_capacity_list = []\n",
    "\n",
    "# Iterate over the unique dates\n",
    "for date in dec_dates:\n",
    "    # Filter the DataFrame for rows matching the current date\n",
    "    filtered_data = supplier_capacity[supplier_capacity['Date'] == date]\n",
    "\n",
    "    # Create a dictionary to hold the maximum capacity levels for each supplier, product on the current date\n",
    "    supplier_capacity_date = {}\n",
    "\n",
    "    # Iterate over each row in the filtered DataFrame\n",
    "    for _, row in filtered_data.iterrows():\n",
    "        # Get the supplier, product, and capacity\n",
    "        supplier = row['Supplier']\n",
    "        product = row['Item']\n",
    "        capacity = row['Capacity']\n",
    "\n",
    "        # Create a nested dictionary for the supplier if it doesn't exist\n",
    "        if supplier not in supplier_capacity_date:\n",
    "            supplier_capacity_date[supplier] = {}\n",
    "\n",
    "        # Store the maximum capacity level for the current supplier, product, and date in the dictionary\n",
    "        supplier_capacity_date[supplier][product] = capacity\n",
    "\n",
    "    # Append the dictionary of maximum capacity levels to the main list\n",
    "    max_capacity_list.append(supplier_capacity_date)\n",
    "\n",
    "# Determine the number of unique suppliers and products\n",
    "num_suppliers = len(supplier_loc)\n",
    "num_products = len(supplier_capacity['Item'].unique())\n",
    "\n",
    "# Create a NumPy array to hold the maximum capacity levels for all suppliers, products, and dates\n",
    "supplier_capacity_np = np.zeros((len(dec_dates), num_suppliers, num_products))\n",
    "\n",
    "# Iterate over the list of maximum capacity levels and populate the NumPy array\n",
    "for date_idx, supplier_capacity_date in enumerate(max_capacity_list):\n",
    "    for supplier_idx, supplier_row in supplier_loc.iterrows():\n",
    "        supplier = supplier_row['UniqueID']\n",
    "        for product_idx, product in enumerate(supplier_capacity['Item'].unique()):\n",
    "            supplier_capacity_np[date_idx, supplier_idx, product_idx] = supplier_capacity_date.get(supplier, {}).get(product, 0)\n",
    "\n",
    "print(supplier_capacity_np)\n"
   ]
  },
  {
   "cell_type": "code",
   "execution_count": null,
   "metadata": {
    "id": "hRj7l4TbJBh3"
   },
   "outputs": [],
   "source": [
    "\n",
    "# KEY PARAMETERS\n",
    "\n",
    "# Inventory value per unit of all products are assumed to be 1 $. \n",
    "# Holding cost is considered to be 15% of Inventory value per annum (15 cents per year). \n",
    "# Per km transport cost for truck in US is approximatly 1 $.\n",
    "# Consiering a truck load of 10,000 units we arrive at 0.0001 $ per unit per km.\n",
    "# Leadtimes are mentioned in days\n",
    "\n",
    "holding_cost_per_day_per_unit = (0.15/365)\n",
    "transport_cost_per_km_per_unit = (1/10000)\n",
    "tranship_cost_per_km_per_unit = (1/10000)\n",
    "leadtime_fc = 0\n",
    "leadtime_supplier = 2\n"
   ]
  },
  {
   "cell_type": "code",
   "execution_count": null,
   "metadata": {
    "id": "CacRLFhlbxUT"
   },
   "outputs": [],
   "source": [
    "tranship_cost = tranship_distance_matrix * tranship_cost_per_km_per_unit # between FCs"
   ]
  },
  {
   "cell_type": "code",
   "execution_count": null,
   "metadata": {
    "id": "ZxUMCBYbcA6Q"
   },
   "outputs": [],
   "source": [
    "transport_cost = transport_distance_matrix * transport_cost_per_km_per_unit # between Suppliers and FCs"
   ]
  },
  {
   "cell_type": "code",
   "execution_count": null,
   "metadata": {
    "colab": {
     "base_uri": "https://localhost:8080/"
    },
    "id": "jNgCHFchFRCN",
    "outputId": "1929189c-b99b-40c9-bd45-80e7075795c8"
   },
   "outputs": [],
   "source": [
    "num_supplier = len(supplier_loc)\n",
    "num_fc = len(fc_loc)  \n",
    "num_period = len(dec_forecast['Date'].unique())\n",
    "num_product = len(dec_forecast['Item'].unique())\n",
    "\n",
    "model = gp.Model()"
   ]
  },
  {
   "cell_type": "markdown",
   "metadata": {},
   "source": [
    "**Optimization with transshipment between FCs are calculated in the following part**"
   ]
  },
  {
   "cell_type": "code",
   "execution_count": null,
   "metadata": {
    "id": "kJ4nvCeTU49I"
   },
   "outputs": [],
   "source": [
    "x = model.addMVar((num_supplier, num_fc, num_period, num_product), lb=0, vtype=gp.GRB.INTEGER) # amount of order from suppliers\n",
    "y = model.addMVar((num_fc, num_fc, num_period, num_product), lb=0, vtype=gp.GRB.INTEGER) # amount of order from other FCs\n",
    "s = model.addMVar((num_period, num_fc, num_product), lb=0, vtype=gp.GRB.INTEGER) # FC inventory level"
   ]
  },
  {
   "cell_type": "code",
   "execution_count": null,
   "metadata": {
    "id": "NQWA4lNsYNJk"
   },
   "outputs": [],
   "source": [
    "# Objective function\n",
    "\n",
    "model.setObjective((holding_cost_per_day_per_unit * s).sum() + (transport_cost * x).sum() + (tranship_cost * y).sum(), sense=gp.GRB.MINIMIZE)"
   ]
  },
  {
   "cell_type": "code",
   "execution_count": null,
   "metadata": {
    "id": "aWAwOFxhyRnn"
   },
   "outputs": [],
   "source": [
    "# Setting initial stock levels\n",
    "\n",
    "model.addConstrs((s[0,j,n] == stock_level_np[0,j,n] for j in range(num_fc) for n in range(num_product)))"
   ]
  },
  {
   "cell_type": "code",
   "execution_count": null,
   "metadata": {
    "id": "Ry5c3DIcXdbo"
   },
   "outputs": [],
   "source": [
    "# Safety stock constraint\n",
    "\n",
    "model.addConstrs(safetystock_level_np[k,j,n] <= s[k,j,n] for k in range(num_period) for j in range(num_fc) for n in range(num_product))"
   ]
  },
  {
   "cell_type": "code",
   "execution_count": null,
   "metadata": {
    "id": "-57wkd8xjOHn"
   },
   "outputs": [],
   "source": [
    "# Maximum Supplier Capacity constraint\n",
    "\n",
    "model.addConstrs(supplier_capacity_np[k,i,n] >= (sum(x[i, j, k, n] for j in range(num_fc))) \n",
    "                  for k in range(num_period) for i in range(num_supplier) for n in range(num_product))"
   ]
  },
  {
   "cell_type": "code",
   "execution_count": null,
   "metadata": {
    "id": "6Mfl_N9Qdkvn"
   },
   "outputs": [],
   "source": [
    "# Constraint for limiting the FC from ordering its own stock\n",
    "\n",
    "model.addConstrs(y[l, j, k, n] == 0 for l in range(num_fc) for j in range(num_fc) for k in range(num_period) for n in range(num_product) if l == j)"
   ]
  },
  {
   "cell_type": "code",
   "execution_count": null,
   "metadata": {
    "id": "Bu1nllwItk4g"
   },
   "outputs": [],
   "source": [
    "# X + Y - Y + S - D == S(+1) Constraint to calculate Stock for next time period- for k >= leadtimes\n",
    "\n",
    "model.addConstrs((sum(x[i, j, k-leadtime_supplier, n] for i in range(num_supplier)) + sum(y[l, j, k-leadtime_fc, n] for l in range(num_fc)) \n",
    "                  - sum(y[j, l, k, n] for l in range(num_fc))+ s[k, j, n] - forecast_level_np[k, j, n] == s[(k + 1), j, n]) \n",
    "                  for k in range(num_period-1) for j in range(num_fc) for n in range(num_product) if k>=leadtime_supplier and k>=leadtime_fc)\n"
   ]
  },
  {
   "cell_type": "code",
   "execution_count": null,
   "metadata": {
    "id": "DPef2yKpRuN3"
   },
   "outputs": [],
   "source": [
    "# S - Y - D == S(+1) Constraint to calculate Stock for next time period for k < leadtimes\n",
    "\n",
    "model.addConstrs(( s[k, j, n] - sum(y[j, l, k, n] for l in range(num_fc)) - forecast_level_np[k, j, n] == s[(k + 1), j, n]) \n",
    "                  for k in range(num_period-1) for j in range(num_fc) for n in range(num_product) if k<leadtime_supplier and k<leadtime_fc)\n"
   ]
  },
  {
   "cell_type": "code",
   "execution_count": null,
   "metadata": {
    "id": "ncPuIee25Rwd"
   },
   "outputs": [],
   "source": [
    "# S + Y - Y - D == S(+1) Constraint to calculate Stock for next time period for k < leadtime_supplier and k >= leadtime_fc\n",
    "\n",
    "model.addConstrs(( s[k, j, n] + sum(y[l, j, k-leadtime_fc, n] for l in range(num_fc)) - sum(y[j, l, k, n] for l in range(num_fc)) \n",
    "                  - forecast_level_np[k, j, n] == s[(k + 1), j, n]) for k in range(num_period-1) for j in range(num_fc) \n",
    "                  for n in range(num_product) if k < leadtime_supplier and k >= leadtime_fc)\n"
   ]
  },
  {
   "cell_type": "code",
   "execution_count": null,
   "metadata": {
    "colab": {
     "base_uri": "https://localhost:8080/"
    },
    "id": "PRaVDGKx68z1",
    "outputId": "e33fe3ab-2464-450c-98e6-6a68f56d5dfe"
   },
   "outputs": [],
   "source": [
    "# S + X - Y - D == S(+1) Constraint to calculate Stock for next time period for k < leadtime_fc and k >= leadtime_supplier\n",
    "\n",
    "model.addConstrs(( s[k, j, n] + sum(x[i, j, k-leadtime_supplier, n] for i in range(num_supplier)) - sum(y[j, l, k, n] for l in range(num_fc)) \n",
    "                  - forecast_level_np[k, j, n] == s[(k + 1), j, n]) for k in range(num_period-1) \n",
    "                  for j in range(num_fc) for n in range(num_product) if k < leadtime_fc and k >= leadtime_supplier)\n"
   ]
  },
  {
   "cell_type": "code",
   "execution_count": null,
   "metadata": {
    "colab": {
     "base_uri": "https://localhost:8080/"
    },
    "id": "Btk3KCrc2w34",
    "outputId": "233626f7-3505-4987-94f9-668806f969e9",
    "scrolled": false
   },
   "outputs": [],
   "source": [
    "model.optimize()\n",
    "\n",
    "# Check the optimization status\n",
    "if model.status == gp.GRB.OPTIMAL:\n",
    "    # Retrieve the objective value\n",
    "    obj_value = model.objVal\n",
    "    print(\"Objective value:\", obj_value)\n",
    "else:\n",
    "    print(\"Optimization did not converge to an optimal solution.\")"
   ]
  },
  {
   "cell_type": "code",
   "execution_count": null,
   "metadata": {
    "colab": {
     "base_uri": "https://localhost:8080/",
     "height": 339
    },
    "id": "26QL8UCxhxHs",
    "outputId": "92febdab-5164-4d0e-99bb-5478f417ca5f"
   },
   "outputs": [],
   "source": [
    "x_opt = x.X\n",
    "y_opt = y.X\n",
    "s_opt = s.X\n",
    "\n",
    "if model.status == gp.GRB.OPTIMAL:\n",
    "    print(\"Optimized order qty from Supplier to FC:\")\n",
    "    print(x_opt)\n",
    "    print(\"Optimized order qty from FC to FC:\")\n",
    "    print(y_opt)\n",
    "    print(\"Optimized inventory level for FC:\")\n",
    "    print(s_opt)\n",
    "else:\n",
    "    print(\"The problem is infeasible or unbounded.\")"
   ]
  },
  {
   "cell_type": "markdown",
   "metadata": {
    "id": "qBSdH5rJH5vX"
   },
   "source": [
    "**Optimization without transshipment between FCs are calculated in the following part**"
   ]
  },
  {
   "cell_type": "code",
   "execution_count": null,
   "metadata": {
    "id": "LbYg1n-O3Sqc"
   },
   "outputs": [],
   "source": [
    "x2 = model.addMVar((num_supplier, num_fc, num_period, num_product), lb=0, vtype=gp.GRB.INTEGER) # amount of order from suppliers without transshipment\n",
    "s2 = model.addMVar((num_period, num_fc, num_product), lb=0, vtype=gp.GRB.INTEGER) # FC inventory level without transshipment"
   ]
  },
  {
   "cell_type": "code",
   "execution_count": null,
   "metadata": {
    "id": "NWiNKPg43vg5"
   },
   "outputs": [],
   "source": [
    "# Objective function for withhout transshipment\n",
    "\n",
    "model.setObjective((holding_cost_per_day_per_unit * s2).sum() + (transport_cost * x2).sum() , sense=gp.GRB.MINIMIZE)"
   ]
  },
  {
   "cell_type": "code",
   "execution_count": null,
   "metadata": {
    "id": "4KD5B90-3_rN",
    "scrolled": true
   },
   "outputs": [],
   "source": [
    "# Setting initial stock levels for withhout transshipment\n",
    "\n",
    "model.addConstrs((s2[0,j,n] == stock_level_np[0,j,n] for j in range(num_fc) for n in range(num_product)))"
   ]
  },
  {
   "cell_type": "code",
   "execution_count": null,
   "metadata": {
    "id": "2kVtfHbe4P9t",
    "scrolled": true
   },
   "outputs": [],
   "source": [
    "# Safety stock constraint for withhout transshipment\n",
    "\n",
    "model.addConstrs(safetystock_level_np[k,j,n] <= s2[k,j,n] for k in range(num_period) for j in range(num_fc) for n in range(num_product))"
   ]
  },
  {
   "cell_type": "code",
   "execution_count": null,
   "metadata": {
    "id": "6pFizOefKtXF"
   },
   "outputs": [],
   "source": [
    "# Maximum Supplier Capacity constraint for withhout transshipment\n",
    "\n",
    "model.addConstrs(supplier_capacity_np[k,i,n] >= (sum(x2[i, j, k, n] for j in range(num_fc))) \n",
    "                  for k in range(num_period) for i in range(num_supplier) for n in range(num_product))"
   ]
  },
  {
   "cell_type": "code",
   "execution_count": null,
   "metadata": {
    "id": "WxCX12z_4cCC"
   },
   "outputs": [],
   "source": [
    "# X + S - D == S(+1) Constraint to calculate Stock for next time period- for k >= leadtime_supplier for withhout transshipment\n",
    "\n",
    "model.addConstrs((sum(x2[i, j, k-leadtime_supplier, n] for i in range(num_supplier)) + s2[k, j, n] - forecast_level_np[k, j, n] == s2[(k + 1), j, n]) \n",
    "                  for k in range(num_period-1) for j in range(num_fc) for n in range(num_product) if k >= leadtime_supplier)\n"
   ]
  },
  {
   "cell_type": "code",
   "execution_count": null,
   "metadata": {
    "id": "Ruk8PS8n4sdV"
   },
   "outputs": [],
   "source": [
    "# S - D == S(+1) Constraint to calculate Stock for next time period for k < leadtime_supplier for withhout transshipment\n",
    "\n",
    "model.addConstrs(( s2[k, j, n] - forecast_level_np[k, j, n] == s2[(k + 1), j, n]) \n",
    "                  for k in range(num_period-1) for j in range(num_fc) for n in range(num_product) if k < leadtime_supplier)"
   ]
  },
  {
   "cell_type": "code",
   "execution_count": null,
   "metadata": {
    "id": "QA2-p17r5PsX"
   },
   "outputs": [],
   "source": [
    "model.optimize()\n",
    "\n",
    "# Check the optimization status\n",
    "if model.status == gp.GRB.OPTIMAL:\n",
    "    # Retrieve the objective value\n",
    "    obj_value_without_transshipment = model.objVal\n",
    "    print(\"Objective value:\", obj_value_without_transshipment)\n",
    "else:\n",
    "    print(\"Optimization did not converge to an optimal solution.\")"
   ]
  },
  {
   "cell_type": "code",
   "execution_count": null,
   "metadata": {
    "id": "XjNHhAz650kU"
   },
   "outputs": [],
   "source": [
    "x2_opt = x2.X\n",
    "s2_opt = s2.X\n",
    "\n",
    "if model.status == gp.GRB.OPTIMAL:\n",
    "    print(\"Optimized order qty from Supplier to FC:\")\n",
    "    print(x2_opt)\n",
    "    print(\"Optimized inventory level for FC:\")\n",
    "    print(s2_opt)\n",
    "else:\n",
    "    print(\"The problem is infeasible or unbounded.\")"
   ]
  },
  {
   "cell_type": "markdown",
   "metadata": {
    "id": "Nf36bt2NPiJ6"
   },
   "source": [
    "**Cost incurred by Amazon for current order quantities & stock levels are calculated below**"
   ]
  },
  {
   "cell_type": "code",
   "execution_count": null,
   "metadata": {
    "id": "1tzsifMD3UW8"
   },
   "outputs": [],
   "source": [
    "# Actual ordered qty in FCs\n",
    "\n",
    "# Extract the unique dates from the \"Date\" column\n",
    "dec_dates = dec_forecast['Date'].unique()\n",
    "\n",
    "# Create an empty dictionary to hold the stock levels for each FC, product, and date\n",
    "order_levels = {}\n",
    "\n",
    "# Iterate over the unique dates\n",
    "for date in dec_dates:\n",
    "    # Filter the DataFrame for the current date\n",
    "    filtered_data = dec_forecast[dec_forecast['Date'] == date]\n",
    "    \n",
    "    # Create a dictionary to hold the order qty for each FC, product on the current date\n",
    "    order_levels[date] = {}\n",
    "    \n",
    "    # Iterate over each row in the filtered DataFrame\n",
    "    for _, row in filtered_data.iterrows():\n",
    "        # Get the FC, product, and order level\n",
    "        fc = row['FC']\n",
    "        product = row['Item']\n",
    "        order_qty = row['Ordered']\n",
    "        \n",
    "        # Create a nested dictionary for the FC if it doesn't exist\n",
    "        if fc not in order_levels[date]:\n",
    "            order_levels[date][fc] = {}\n",
    "        \n",
    "        # Store the order qty for the current FC, product, and date in the dictionary\n",
    "        order_levels[date][fc][product] = order_qty\n",
    "\n",
    "# Create a NumPy array to hold the stock levels for all FCs, products, and dates\n",
    "order_level_np = np.zeros((len(dec_dates), num_fcs, num_products))\n",
    "\n",
    "# Iterate over the stock levels dictionary and populate the NumPy array\n",
    "for date_idx, date in enumerate(dec_dates):\n",
    "    for fc_idx, fc_row in fc_loc.iterrows():\n",
    "        fc = fc_row['FC']\n",
    "        for product_idx, product in enumerate(dec_forecast['Item'].unique()):\n",
    "            order_level_np[date_idx, fc_idx, product_idx] = order_levels[date].get(fc, {}).get(product, 0)\n",
    "\n",
    "print(order_level_np)\n"
   ]
  },
  {
   "cell_type": "code",
   "execution_count": null,
   "metadata": {
    "id": "RJX3fW3l6J5L"
   },
   "outputs": [],
   "source": [
    "min_distance_3d = np.min(transport_distance_matrix, axis=0)\n",
    "# Transpose the array\n",
    "min_distance_3d_T = np.transpose(min_distance_3d, (1, 0, 2))\n",
    "\n",
    "obj_value_existing = ((holding_cost_per_day_per_unit * stock_level_np).sum() + (min_distance_3d_T* order_level_np*transport_cost_per_km_per_unit).sum())\n",
    "obj_value_existing"
   ]
  },
  {
   "cell_type": "markdown",
   "metadata": {
    "id": "-ejX0OL4JbkJ"
   },
   "source": [
    "**Comparisons of actual cost, optimized cost without transshipment, and optimized cost with transshipment are as follows:**"
   ]
  },
  {
   "cell_type": "code",
   "execution_count": null,
   "metadata": {
    "scrolled": false
   },
   "outputs": [],
   "source": [
    "import plotly.graph_objects as go\n",
    "\n",
    "# Define the variable names\n",
    "variable_names = ['Current Cost', 'Opt Cost (Without Transshipment)','Opt Cost (With Transshipment)' ]\n",
    "\n",
    "# Define the values\n",
    "values = [(obj_value_existing/1000000), (obj_value_without_transshipment/1000000), (obj_value/1000000) ]\n",
    "\n",
    "# Create a bar trace\n",
    "trace = go.Bar(\n",
    "    x=variable_names,\n",
    "    y=values,\n",
    "    texttemplate='%{y:,.2f}M',\n",
    "    textposition='auto',\n",
    ")\n",
    "\n",
    "# Create the layout\n",
    "layout = go.Layout(\n",
    "    title='Cost Comparison',\n",
    "    xaxis=dict(title='Output'),\n",
    "    yaxis=dict(title='Cost (In Millions)'),\n",
    "    width=500,\n",
    "    height=500,\n",
    "    plot_bgcolor='white'\n",
    ")\n",
    "\n",
    "# Create the figure\n",
    "fig = go.Figure(data=[trace], layout=layout)\n",
    "\n",
    "# Display the chart\n",
    "fig.show()\n"
   ]
  },
  {
   "cell_type": "markdown",
   "metadata": {},
   "source": [
    "**Downloading the optimzation outputs in excel**"
   ]
  },
  {
   "cell_type": "code",
   "execution_count": null,
   "metadata": {
    "id": "P4E82Dy5iaWr"
   },
   "outputs": [],
   "source": [
    "# Define the period, supplier, and FC labels\n",
    "periods = dec_forecast['Date'].unique()\n",
    "suppliers = supplier_loc['UniqueID'].values\n",
    "fcs = fc_loc['FC'].values\n",
    "products = dec_forecast['Item'].unique()\n",
    "\n",
    "# Initialize the output DataFrame\n",
    "output = pd.DataFrame(columns=['Period','Product', 'Supplier', 'From_FC', 'To_FC', 'Quantity_Shipped'])\n",
    "\n",
    "# Iterate over the optimized order quantities from FC to Supplier\n",
    "for period_idx in range(num_period):\n",
    "  for product_idx in range(num_product):\n",
    "    for supplier_idx in range(num_supplier):\n",
    "        for fc_idx in range(num_fc):\n",
    "            quantity = x_opt[supplier_idx, fc_idx, period_idx, product_idx]\n",
    "            if quantity > 0:\n",
    "                new_row = pd.DataFrame({'Period': periods[period_idx],\n",
    "                                        'Product':products[product_idx],\n",
    "                                        'Supplier': suppliers[supplier_idx],\n",
    "                                        'To_FC': fcs[fc_idx],\n",
    "                                        'Quantity_Shipped': quantity}, index=[0])\n",
    "                output = pd.concat([output, new_row], ignore_index=True)\n",
    "\n",
    "# Iterate over the optimized order quantities from FC to FC\n",
    "for period_idx in range(num_period):\n",
    "  for product_idx in range(num_product):\n",
    "    for from_fc_idx in range(num_fc):\n",
    "        for to_fc_idx in range(num_fc):\n",
    "            quantity = y_opt[from_fc_idx, to_fc_idx, period_idx, product_idx]\n",
    "            if quantity > 0:\n",
    "                new_row = pd.DataFrame({'Period': periods[period_idx],\n",
    "                                        'Product':products[product_idx],\n",
    "                                        'From_FC': fcs[from_fc_idx],\n",
    "                                        'To_FC': fcs[to_fc_idx],\n",
    "                                        'Quantity_Shipped': quantity}, index=[0])\n",
    "                output = pd.concat([output, new_row], ignore_index=True)\n",
    "\n",
    "# Save the output to a CSV file\n",
    "output.to_csv('optimization_output_with_transshipment.csv', index=False)\n"
   ]
  },
  {
   "cell_type": "code",
   "execution_count": null,
   "metadata": {
    "id": "hEFPp5Uk53_K"
   },
   "outputs": [],
   "source": [
    "# Define the period, supplier, and FC labels\n",
    "periods = dec_forecast['Date'].unique()\n",
    "suppliers = supplier_loc['UniqueID'].values\n",
    "fcs = fc_loc['FC'].values\n",
    "products = dec_forecast['Item'].unique()\n",
    "\n",
    "# Initialize the output DataFrame\n",
    "output = pd.DataFrame(columns=['Period','Product', 'Supplier', 'To_FC', 'Quantity_Shipped'])\n",
    "\n",
    "# Iterate over the optimized order quantities from FC to Supplier\n",
    "for period_idx in range(num_period):\n",
    "  for product_idx in range(num_product):\n",
    "    for supplier_idx in range(num_supplier):\n",
    "        for fc_idx in range(num_fc):\n",
    "            quantity = x2_opt[supplier_idx, fc_idx, period_idx, product_idx]\n",
    "            if quantity > 0:\n",
    "                new_row = pd.DataFrame({'Period': periods[period_idx],\n",
    "                                        'Product':products[product_idx],\n",
    "                                        'Supplier': suppliers[supplier_idx],\n",
    "                                        'To_FC': fcs[fc_idx],\n",
    "                                        'Quantity_Shipped': quantity}, index=[0])\n",
    "                output = pd.concat([output, new_row], ignore_index=True)\n",
    "\n",
    "\n",
    "\n",
    "# Save the output to a CSV file\n",
    "output.to_csv('optimization_output_without_transshipment.csv', index=False)\n"
   ]
  },
  {
   "cell_type": "code",
   "execution_count": null,
   "metadata": {},
   "outputs": [],
   "source": [
    "# Define the period, supplier, and FC labels\n",
    "periods = dec_forecast['Date'].unique()\n",
    "suppliers = supplier_loc['UniqueID'].values\n",
    "fcs = fc_loc['FC'].values\n",
    "products = dec_forecast['Item'].unique()\n",
    "\n",
    "# Initialize the output DataFrame\n",
    "output = pd.DataFrame(columns=['Period','FC', 'Product','Stock'])\n",
    "\n",
    "# Iterate over the optimized order quantities from FC to Supplier\n",
    "for period_idx in range(num_period):\n",
    "    for product_idx in range(num_product):\n",
    "        for fc_idx in range(num_fc):\n",
    "            stock = s_opt[period_idx, fc_idx, product_idx]\n",
    "            if stock > 0:\n",
    "                new_row = pd.DataFrame({'Period': periods[period_idx],\n",
    "                                        'FC': fcs[fc_idx],\n",
    "                                        'Product': products[product_idx],\n",
    "                                        'Stock': stock}, index=[0])\n",
    "                output = pd.concat([output, new_row], ignore_index=True)\n",
    "\n",
    "# Save the output to a CSV file\n",
    "output.to_csv('stock_level_with_transshipment.csv', index=False)\n"
   ]
  },
  {
   "cell_type": "code",
   "execution_count": null,
   "metadata": {},
   "outputs": [],
   "source": [
    "# Define the period, supplier, and FC labels\n",
    "periods = dec_forecast['Date'].unique()\n",
    "suppliers = supplier_loc['UniqueID'].values\n",
    "fcs = fc_loc['FC'].values\n",
    "products = dec_forecast['Item'].unique()\n",
    "\n",
    "# Initialize the output DataFrame\n",
    "output = pd.DataFrame(columns=['Period','FC', 'Product','Stock'])\n",
    "\n",
    "# Iterate over the optimized order quantities from FC to Supplier\n",
    "for period_idx in range(num_period):\n",
    "    for product_idx in range(num_product):\n",
    "        for fc_idx in range(num_fc):\n",
    "            stock = s2_opt[period_idx, fc_idx, product_idx]\n",
    "            if stock > 0:\n",
    "                new_row = pd.DataFrame({'Period': periods[period_idx],\n",
    "                                        'FC': fcs[fc_idx],\n",
    "                                        'Product': products[product_idx],\n",
    "                                        'Stock': stock}, index=[0])\n",
    "                output = pd.concat([output, new_row], ignore_index=True)\n",
    "\n",
    "# Save the output to a CSV file\n",
    "output.to_csv('stock_level_without_transshipment.csv', index=False)\n"
   ]
  },
  {
   "cell_type": "code",
   "execution_count": null,
   "metadata": {},
   "outputs": [],
   "source": [
    "#All seperate cost values for optimized centralized model with transshipment\n",
    "\n",
    "holding_cost_fc_with_trans = (holding_cost_per_day_per_unit * s_opt).sum()\n",
    "transportation_cost_supplier_to_fc_with_trans = (transport_cost * x_opt).sum()\n",
    "transshipment_cost_with_trans = (tranship_cost * y_opt).sum()\n",
    "total_cost_with_trans = obj_value\n",
    "total_products_stored_fc_with_trans = (s_opt).sum()\n",
    "total_products_shipped_from_supplier_with_trans = (x_opt).sum()\n",
    "total_products_shipped_from_fc_with_trans = (y_opt).sum()\n",
    "\n",
    "#All seperate cost values for optimized centralized model without transshipment\n",
    "\n",
    "holding_cost_fc_without_trans = (holding_cost_per_day_per_unit * s2_opt).sum()\n",
    "transportation_cost_supplier_to_fc_without_trans = (transport_cost * x2_opt).sum()\n",
    "total_cost_without_trans = obj_value_without_transshipment\n",
    "total_products_stored_fc_without_trans = (s2_opt).sum()\n",
    "total_products_shipped_from_supplier_without_trans = (x2_opt).sum()\n",
    "\n",
    "#All seperate cost values for current situation \n",
    "\n",
    "holding_cost_fc_current = (holding_cost_per_day_per_unit * stock_level_np).sum()\n",
    "transportation_cost_current = (min_distance_3d_T* order_level_np*transport_cost_per_km_per_unit).sum()\n",
    "total_cost_current = obj_value_existing\n",
    "total_products_stored_fc_current = (stock_level_np).sum()\n",
    "total_products_shipped_from_supplier_current = (order_level_np).sum()"
   ]
  },
  {
   "cell_type": "code",
   "execution_count": null,
   "metadata": {},
   "outputs": [],
   "source": [
    "!pip install openpyxl\n",
    "\n",
    "import openpyxl\n",
    "\n",
    "# Parameters and Cost values\n",
    "values = {\n",
    "    \"Holding Cost FC per day per unit\": holding_cost_per_day_per_unit,\n",
    "    \"Transportation cost per km per unit\": transport_cost_per_km_per_unit,\n",
    "    \"Transshipment cost per km per unit\": tranship_cost_per_km_per_unit,\n",
    "    \"Leadtime FC\": leadtime_fc,\n",
    "    \"Leadtime Supplier\": leadtime_supplier,\n",
    "    \"Holding cost FC with transshipment\": holding_cost_fc_with_trans,\n",
    "    \"Transportation cost supplier to CenterFC with transshipment\": transportation_cost_supplier_to_fc_with_trans,\n",
    "    \"Transshipment cost with transshipment\": transshipment_cost_with_trans,\n",
    "    \"Total cost with transshipment\": total_cost_with_trans,\n",
    "    \"Total products stored at all FCs with transshipment\":total_products_stored_fc_with_trans,\n",
    "    \"Total products shipped from supplier with transshipment\":total_products_shipped_from_supplier_with_trans,\n",
    "    \"Total products shipped from FCs with transshipment\":total_products_shipped_from_fc_with_trans,\n",
    "    \"Holding cost FC without transshipment\": holding_cost_fc_without_trans,\n",
    "    \"Transportation cost supplier to FC without transshipment\": transportation_cost_supplier_to_fc_without_trans,\n",
    "    \"Total cost without transshipment\": total_cost_without_trans,\n",
    "    \"Total products stored at all FCs without transshipment\":total_products_stored_fc_without_trans,\n",
    "    \"Total products shipped from supplier without transshipment\":total_products_shipped_from_supplier_without_trans,\n",
    "    \"Holding cost FC current\": holding_cost_fc_current,\n",
    "    \"Transportation cost supplier to FC current\": transportation_cost_current,\n",
    "    \"Total cost current\": total_cost_current,\n",
    "    \"Total products stored at FCs current\":total_products_stored_fc_current,\n",
    "    \"Total products shipped from supplier current\":total_products_shipped_from_supplier_current\n",
    "}\n",
    "\n",
    "workbook = openpyxl.Workbook()\n",
    "worksheet = workbook.active\n",
    "\n",
    "# Write headers\n",
    "worksheet.cell(row=1, column=1).value = \"Parameter\"\n",
    "worksheet.cell(row=1, column=2).value = \"Value\"\n",
    "\n",
    "# Write values to Excel\n",
    "for index, (parameter, value) in enumerate(values.items(), start=2):\n",
    "    worksheet.cell(row=index, column=1).value = parameter\n",
    "    worksheet.cell(row=index, column=2).value = value\n",
    "\n",
    "# Save the Excel workbook\n",
    "workbook.save(\"output_costs_and_parameters.xlsx\")"
   ]
  },
  {
   "cell_type": "code",
   "execution_count": null,
   "metadata": {},
   "outputs": [],
   "source": []
  }
 ],
 "metadata": {
  "colab": {
   "provenance": []
  },
  "kernelspec": {
   "display_name": "Python 3 (ipykernel)",
   "language": "python",
   "name": "python3"
  },
  "language_info": {
   "codemirror_mode": {
    "name": "ipython",
    "version": 3
   },
   "file_extension": ".py",
   "mimetype": "text/x-python",
   "name": "python",
   "nbconvert_exporter": "python",
   "pygments_lexer": "ipython3",
   "version": "3.9.12"
  }
 },
 "nbformat": 4,
 "nbformat_minor": 1
}
